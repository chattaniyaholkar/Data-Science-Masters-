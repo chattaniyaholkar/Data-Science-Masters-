{
 "cells": [
  {
   "cell_type": "code",
   "execution_count": null,
   "id": "6545571d-952e-4793-9fdf-581f88e08a6c",
   "metadata": {},
   "outputs": [],
   "source": [
    "# why __init__ function is use ?"
   ]
  },
  {
   "cell_type": "code",
   "execution_count": null,
   "id": "fe75baae-3a79-44f4-86e5-2296c6b71075",
   "metadata": {},
   "outputs": [],
   "source": [
    "init is a constructor \n",
    "is used when object is created in the form of the class\n",
    "access to requried to initialize the attribiute of the class"
   ]
  },
  {
   "cell_type": "code",
   "execution_count": null,
   "id": "5859b631-d422-4111-9a34-2c39df4e52d9",
   "metadata": {},
   "outputs": [],
   "source": [
    "# Q4. Why self is used in OOPs?"
   ]
  },
  {
   "cell_type": "code",
   "execution_count": null,
   "id": "26ee795d-1d99-4e6f-9d8d-0d25899a3df1",
   "metadata": {},
   "outputs": [],
   "source": [
    "-we can access the atributes of the class in python \n",
    "-you can use any another name but not inbuilt function is form of self \n",
    "#basicly in class self is the resevere words that the word access the atributes and when the user calling \n",
    "attributes is present "
   ]
  },
  {
   "cell_type": "code",
   "execution_count": null,
   "id": "beb988da-b90b-4dd8-8ece-fa3163c8940d",
   "metadata": {},
   "outputs": [],
   "source": [
    "Q.What is inheritance? Give an example for each type of inheritance."
   ]
  },
  {
   "cell_type": "code",
   "execution_count": null,
   "id": "d9022cd1-7cf2-4763-a722-38aaa975e9b2",
   "metadata": {},
   "outputs": [],
   "source": [
    "ans( there are three  types of inheritence in python )\n",
    "1.single inheritence\n",
    "# example are in next coloumb"
   ]
  },
  {
   "cell_type": "code",
   "execution_count": null,
   "id": "bba0850d-5d44-4d2e-af20-78aa27ebcd6a",
   "metadata": {},
   "outputs": [],
   "source": [
    "# single inheritence "
   ]
  },
  {
   "cell_type": "code",
   "execution_count": null,
   "id": "6834afd5-99f5-4001-ad34-306ab088f009",
   "metadata": {},
   "outputs": [],
   "source": [
    "class chetan:\n",
    "    \n",
    "    def chetan_is_calling(self):\n",
    "        print(\"i call you later\")"
   ]
  },
  {
   "cell_type": "code",
   "execution_count": null,
   "id": "59ccf81c-c79f-49f3-9da0-d1c833c81323",
   "metadata": {},
   "outputs": [],
   "source": [
    "rohan = chetan()"
   ]
  },
  {
   "cell_type": "code",
   "execution_count": null,
   "id": "e51e00f7-be86-46c2-8f57-7cf8060ea13d",
   "metadata": {},
   "outputs": [],
   "source": [
    "rohan.chetan_is_calling()"
   ]
  },
  {
   "cell_type": "code",
   "execution_count": null,
   "id": "fa8352e1-5289-4f55-a405-c27c646ec00d",
   "metadata": {},
   "outputs": [],
   "source": [
    "2.multiple inheritence \n",
    "example in next cloumb or box"
   ]
  },
  {
   "cell_type": "code",
   "execution_count": 1,
   "id": "3f7038db-464f-47c8-9f3e-6d615531d40d",
   "metadata": {},
   "outputs": [],
   "source": [
    "class test1:\n",
    "    \n",
    "    def __init__(che,mother,father,brother):\n",
    "        che.mother=mother\n",
    "        che.father=father\n",
    "        che.brother=brother\n",
    "        \n",
    "    def return_what_is_you_parents_name(che):\n",
    "        return che.father  , che.mother , che.brother"
   ]
  },
  {
   "cell_type": "code",
   "execution_count": 2,
   "id": "059d56bf-ee46-4052-b2f0-1a982f8aba77",
   "metadata": {},
   "outputs": [],
   "source": [
    "vansh =  test1(\"sushila\",\"chetan101\",\"ikku\")"
   ]
  },
  {
   "cell_type": "code",
   "execution_count": 4,
   "id": "6ae4abc1-bcbe-46e8-9923-6555bd5b8219",
   "metadata": {},
   "outputs": [
    {
     "data": {
      "text/plain": [
       "'ikku'"
      ]
     },
     "execution_count": 4,
     "metadata": {},
     "output_type": "execute_result"
    }
   ],
   "source": [
    "vansh.brother"
   ]
  },
  {
   "cell_type": "code",
   "execution_count": null,
   "id": "a9ff33c1-7e85-476a-a34c-6cbb15dada72",
   "metadata": {},
   "outputs": [],
   "source": [
    "vansh"
   ]
  },
  {
   "cell_type": "code",
   "execution_count": null,
   "id": "23e38c6c-699d-49bb-8b15-656a700570e7",
   "metadata": {},
   "outputs": [],
   "source": [
    "# multilevel inheritence "
   ]
  },
  {
   "cell_type": "code",
   "execution_count": null,
   "id": "2232e121-f3dd-4718-a897-cfad96680037",
   "metadata": {},
   "outputs": [],
   "source": [
    "Q2. Name the four pillars of OOPs."
   ]
  },
  {
   "cell_type": "code",
   "execution_count": null,
   "id": "be5bf308-24d6-4417-80d2-5681f2b30266",
   "metadata": {},
   "outputs": [],
   "source": [
    "ans(1.inheritence\n",
    "    2.polymorphisim\n",
    "    3.encapsulation \n",
    "    4.abstraction )"
   ]
  },
  {
   "cell_type": "code",
   "execution_count": null,
   "id": "2f956269-8cc3-4c93-af26-31d338d22d6a",
   "metadata": {},
   "outputs": [],
   "source": [
    "Explain Class and Object with respect to \n",
    "Object-Oriented Programming. Give a suitable example."
   ]
  },
  {
   "cell_type": "code",
   "execution_count": null,
   "id": "4ff4fc69-dfec-4463-8ecc-c4510e69df23",
   "metadata": {},
   "outputs": [],
   "source": [
    "Ans(\n",
    "    1.class is a blue print or templates for creating objects \n",
    "    2. class provide structures to the object \n",
    "     on the other hand \n",
    "    1. it represets a specific enitity or value in real world .\n",
    "    2. object have their own unique value or attributes \n",
    "    "
   ]
  },
  {
   "cell_type": "code",
   "execution_count": 5,
   "id": "20082f84-2275-48b5-9f22-d5355549eac7",
   "metadata": {},
   "outputs": [],
   "source": [
    "# example \n",
    "class chetan_1:\n",
    "    def __init__(chetan ,bestfriend,toyfriend,timefriend):\n",
    "        chetan.bestfriend = bestfriend\n",
    "        chetan.toyfriend = toyfriend \n",
    "        chetan.timefriend = timefriend\n",
    "     \n",
    "        def friend(chetan):\n",
    "            return chetan.bestfriend,chetan.toyfriend,timefriend.chetan "
   ]
  },
  {
   "cell_type": "code",
   "execution_count": 10,
   "id": "87d8b068-a351-4c0e-8cf4-0d0d786386e3",
   "metadata": {},
   "outputs": [
    {
     "ename": "AttributeError",
     "evalue": "'str' object has no attribute 'chetan'",
     "output_type": "error",
     "traceback": [
      "\u001b[0;31m---------------------------------------------------------------------------\u001b[0m",
      "\u001b[0;31mAttributeError\u001b[0m                            Traceback (most recent call last)",
      "Cell \u001b[0;32mIn[10], line 1\u001b[0m\n\u001b[0;32m----> 1\u001b[0m rohan \u001b[38;5;241m=\u001b[39m \u001b[43mchetan_1\u001b[49m\u001b[43m(\u001b[49m\u001b[38;5;124;43m\"\u001b[39;49m\u001b[38;5;124;43mafaque\u001b[39;49m\u001b[38;5;124;43m\"\u001b[39;49m\u001b[43m,\u001b[49m\u001b[38;5;124;43m\"\u001b[39;49m\u001b[38;5;124;43mharshit\u001b[39;49m\u001b[38;5;124;43m\"\u001b[39;49m\u001b[43m,\u001b[49m\u001b[38;5;124;43m\"\u001b[39;49m\u001b[38;5;124;43msamarth\u001b[39;49m\u001b[38;5;124;43m\"\u001b[39;49m\u001b[43m)\u001b[49m\n",
      "Cell \u001b[0;32mIn[5], line 4\u001b[0m, in \u001b[0;36mchetan_1.__init__\u001b[0;34m(chetan, bestfriend, toyfriend, timefriend)\u001b[0m\n\u001b[1;32m      3\u001b[0m \u001b[38;5;28;01mdef\u001b[39;00m \u001b[38;5;21m__init__\u001b[39m(chetan ,bestfriend,toyfriend,timefriend):\n\u001b[0;32m----> 4\u001b[0m     \u001b[43mbestfriend\u001b[49m\u001b[38;5;241;43m.\u001b[39;49m\u001b[43mchetan\u001b[49m \u001b[38;5;241m=\u001b[39m bestfriend\n\u001b[1;32m      5\u001b[0m     toyfriend\u001b[38;5;241m.\u001b[39mchetan \u001b[38;5;241m=\u001b[39m toyfriend \n\u001b[1;32m      6\u001b[0m     timefriend\u001b[38;5;241m.\u001b[39mchetan \u001b[38;5;241m=\u001b[39m timefriend\n",
      "\u001b[0;31mAttributeError\u001b[0m: 'str' object has no attribute 'chetan'"
     ]
    }
   ],
   "source": [
    "rohan = chetan_1(\"afaque\",\"harshit\",\"samarth\")"
   ]
  },
  {
   "cell_type": "code",
   "execution_count": null,
   "id": "874b94f3-5137-498f-b240-a03d7574c3e0",
   "metadata": {},
   "outputs": [],
   "source": []
  }
 ],
 "metadata": {
  "kernelspec": {
   "display_name": "Python 3 (ipykernel)",
   "language": "python",
   "name": "python3"
  },
  "language_info": {
   "codemirror_mode": {
    "name": "ipython",
    "version": 3
   },
   "file_extension": ".py",
   "mimetype": "text/x-python",
   "name": "python",
   "nbconvert_exporter": "python",
   "pygments_lexer": "ipython3",
   "version": "3.10.8"
  }
 },
 "nbformat": 4,
 "nbformat_minor": 5
}
