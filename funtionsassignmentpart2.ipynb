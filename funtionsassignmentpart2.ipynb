{
 "cells": [
  {
   "cell_type": "code",
   "execution_count": 11,
   "id": "ea2aa87b-4b4c-44e7-b83c-6a29b196d330",
   "metadata": {},
   "outputs": [],
   "source": [
    "# Q1. Create a python program to sort the given list of tuples based on integer value using a\n",
    "# lambda function.\n",
    "A = [('Sachin Tendulkar', 34357), ('Ricky Ponting', 27483), ('Jack Kallis', 25534), ('Virat Kohli', 24936)]"
   ]
  },
  {
   "cell_type": "code",
   "execution_count": 44,
   "id": "588dba62-56df-412f-a440-3e577bc71002",
   "metadata": {},
   "outputs": [
    {
     "name": "stdout",
     "output_type": "stream",
     "text": [
      "[('Virat Kohli', 24936), ('Jack Kallis', 25534), ('Ricky Ponting', 27483), ('Sachin Tendulkar', 34357)]\n"
     ]
    }
   ],
   "source": [
    "players = [('Sachin Tendulkar', 34357), ('Ricky Ponting', 27483), ('Jack Kallis', 25534), ('Virat Kohli', 24936)]\n",
    "\n",
    "# Sort the list based on the integer value using a lambda function\n",
    "sorted_players = sorted(players, key=lambda x: x[1])\n",
    "\n",
    "print(sorted_players)\n"
   ]
  },
  {
   "cell_type": "code",
   "execution_count": 14,
   "id": "12cc705f-2c57-4d27-b91d-530624be856e",
   "metadata": {},
   "outputs": [],
   "source": [
    "# Q2. Write a Python Program to find the squares of all the numbers in the given list of integers using\n",
    "# lambda and map functions.\n",
    "l1 = [1, 2, 3, 4, 5, 6, 7, 8, 9, 10]"
   ]
  },
  {
   "cell_type": "code",
   "execution_count": 18,
   "id": "bcf672e3-635b-4ba6-bf5b-f151ba4babb9",
   "metadata": {},
   "outputs": [
    {
     "data": {
      "text/plain": [
       "[1, 4, 9, 16, 25, 36, 49, 64, 81, 100]"
      ]
     },
     "execution_count": 18,
     "metadata": {},
     "output_type": "execute_result"
    }
   ],
   "source": [
    "list(map(lambda x : x**2   , l1))"
   ]
  },
  {
   "cell_type": "code",
   "execution_count": 5,
   "id": "79b737e3-d9ed-4943-8ce2-708bc1cca21a",
   "metadata": {},
   "outputs": [],
   "source": [
    "# Q3. Write a python program to convert the given list of integers into a tuple of strings. Use map and\n",
    "# lambda functions\n",
    "l3 = [1, 2, 3, 4, 5, 6, 7, 8, 9, 10]\n",
    "# l4 = ('1', '2', '3', '4', '5', '6', '7', '8', '9', '10')"
   ]
  },
  {
   "cell_type": "code",
   "execution_count": 17,
   "id": "94a0c4b9-eb53-469e-b2c2-9a7dd3e4a7a6",
   "metadata": {},
   "outputs": [
    {
     "data": {
      "text/plain": [
       "('1', '2', '3', '4', '5', '6', '7', '8', '9', '10')"
      ]
     },
     "execution_count": 17,
     "metadata": {},
     "output_type": "execute_result"
    }
   ],
   "source": [
    "tuple(map(lambda x : str(x) , l3 ))"
   ]
  },
  {
   "cell_type": "code",
   "execution_count": 23,
   "id": "88f80572-aa11-4b83-bcb2-1be084d6ea7c",
   "metadata": {},
   "outputs": [],
   "source": [
    "# Q5. Write a python program to filter the numbers in a given list that are divisible by 2 and 3 using the\n",
    "# filter function.\n",
    "list_1=[2, 3, 6, 9, 27, 60, 90, 120, 55, 46]"
   ]
  },
  {
   "cell_type": "code",
   "execution_count": 24,
   "id": "5baecd96-c51b-4160-a15b-50b34bc73f31",
   "metadata": {},
   "outputs": [
    {
     "data": {
      "text/plain": [
       "[6, 60, 90, 120]"
      ]
     },
     "execution_count": 24,
     "metadata": {},
     "output_type": "execute_result"
    }
   ],
   "source": [
    "list(filter(lambda x : x%2 == 0 and x%3==0 , list_1))\n",
    "    \n",
    "    "
   ]
  },
  {
   "cell_type": "code",
   "execution_count": 28,
   "id": "26d16534-54d5-415a-a49d-6f79d9592c1e",
   "metadata": {},
   "outputs": [],
   "source": [
    "# Q6. Write a python program to find palindromes in the given list of strings using lambda and filter\n",
    "# function.\n",
    "list_2=['python', 'php', 'aba', 'radar', 'level']"
   ]
  },
  {
   "cell_type": "code",
   "execution_count": 29,
   "id": "ec5c8fb5-e9ff-45c7-b76d-f1370f576fda",
   "metadata": {},
   "outputs": [],
   "source": [
    "test_1 = list(filter(lambda x : x == x[::-1] , list_2))"
   ]
  },
  {
   "cell_type": "code",
   "execution_count": 30,
   "id": "554aaac3-4bcd-40cd-b7e1-18c5d0eda8d2",
   "metadata": {},
   "outputs": [
    {
     "name": "stdout",
     "output_type": "stream",
     "text": [
      "['php', 'aba', 'radar', 'level']\n"
     ]
    }
   ],
   "source": [
    "print(test_1) "
   ]
  },
  {
   "cell_type": "code",
   "execution_count": null,
   "id": "bb1c8834-c417-4fd2-8895-b0ee5ef6ab57",
   "metadata": {},
   "outputs": [],
   "source": [
    "Q.4 Write a python program using reduce function to compute the product of a list containing numbers\n",
    "from 1 to 25."
   ]
  },
  {
   "cell_type": "code",
   "execution_count": 42,
   "id": "5f0b1955-3708-4639-917a-6f21176a7d63",
   "metadata": {},
   "outputs": [],
   "source": [
    "chetan_12=list(range(1,26))"
   ]
  },
  {
   "cell_type": "code",
   "execution_count": 43,
   "id": "d5317734-24f5-4394-afe1-649235e57116",
   "metadata": {},
   "outputs": [
    {
     "name": "stdout",
     "output_type": "stream",
     "text": [
      "15511210043330985984000000\n"
     ]
    }
   ],
   "source": [
    "test_3 = reduce(lambda x , y : x * y , chetan_12)\n",
    "print(test_3)"
   ]
  },
  {
   "cell_type": "code",
   "execution_count": 35,
   "id": "9537a8b5-5411-44aa-98b1-c1fc2cb69a4f",
   "metadata": {},
   "outputs": [],
   "source": [
    "from functools import reduce"
   ]
  },
  {
   "cell_type": "code",
   "execution_count": null,
   "id": "3100d814-8573-4fe5-8a35-f1b4b0c15948",
   "metadata": {},
   "outputs": [],
   "source": []
  }
 ],
 "metadata": {
  "kernelspec": {
   "display_name": "Python 3 (ipykernel)",
   "language": "python",
   "name": "python3"
  },
  "language_info": {
   "codemirror_mode": {
    "name": "ipython",
    "version": 3
   },
   "file_extension": ".py",
   "mimetype": "text/x-python",
   "name": "python",
   "nbconvert_exporter": "python",
   "pygments_lexer": "ipython3",
   "version": "3.10.8"
  }
 },
 "nbformat": 4,
 "nbformat_minor": 5
}
