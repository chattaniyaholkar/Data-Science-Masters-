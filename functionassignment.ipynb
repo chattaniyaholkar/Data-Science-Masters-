{
 "cells": [
  {
   "cell_type": "code",
   "execution_count": null,
   "id": "d4b6a1f1-cfeb-482e-b189-386fd554d53f",
   "metadata": {},
   "outputs": [],
   "source": [
    "Q1. Which keyword is used to create a function? Create a function to return a list of odd numbers in the\n",
    "range of 1 to 25."
   ]
  },
  {
   "cell_type": "code",
   "execution_count": null,
   "id": "f1f747e5-4996-41c3-853a-5ecb97efcc52",
   "metadata": {},
   "outputs": [],
   "source": [
    "def funtion is used to create a function"
   ]
  },
  {
   "cell_type": "code",
   "execution_count": 34,
   "id": "f876dcd5-0888-431d-b81d-94c6a9ef8dfd",
   "metadata": {},
   "outputs": [],
   "source": [
    "def test1():\n",
    "    a = []\n",
    "    for i in range(1,26):\n",
    "        if i % 2 !=0 :\n",
    "            a.append(i)\n",
    "    return a \n",
    "    "
   ]
  },
  {
   "cell_type": "code",
   "execution_count": 36,
   "id": "bf5bda7e-006d-44b5-948d-e0b3abc0d17e",
   "metadata": {},
   "outputs": [
    {
     "data": {
      "text/plain": [
       "[1, 3, 5, 7, 9, 11, 13, 15, 17, 19, 21, 23, 25]"
      ]
     },
     "execution_count": 36,
     "metadata": {},
     "output_type": "execute_result"
    }
   ],
   "source": [
    "test1()"
   ]
  },
  {
   "cell_type": "code",
   "execution_count": null,
   "id": "34a0fdd2-f1b0-4062-ab49-3eaf2c57d21e",
   "metadata": {},
   "outputs": [],
   "source": [
    "Q2. Why *args and **kwargs is used in some functions? Create a function each for *args and **kwargs to\n",
    "demonstrate their use."
   ]
  },
  {
   "cell_type": "code",
   "execution_count": null,
   "id": "550b988a-c151-404a-9a9e-980b9ad352ba",
   "metadata": {},
   "outputs": [],
   "source": [
    "# args\n",
    "1.allow to funtion to accept \n",
    "any numer or elements and \n",
    "arguments\n",
    "2.when you don't know in advance\n",
    "how many inputs will be passed\n",
    "to the funtion\n",
    "    "
   ]
  },
  {
   "cell_type": "code",
   "execution_count": 37,
   "id": "de26bc55-d4da-4ab7-9af3-eac6589d380f",
   "metadata": {},
   "outputs": [],
   "source": [
    "def chetan_1(*chetan):\n",
    "    return chetan"
   ]
  },
  {
   "cell_type": "code",
   "execution_count": 38,
   "id": "36b9facd-03df-49d7-b53e-24801ba8ae21",
   "metadata": {},
   "outputs": [
    {
     "data": {
      "text/plain": [
       "(1, 2, 3, 4, 'chetan', [1, 2, 3, 4], {1, 2, 3, 4})"
      ]
     },
     "execution_count": 38,
     "metadata": {},
     "output_type": "execute_result"
    }
   ],
   "source": [
    "chetan_1(1,2,3,4,\"chetan\",[1,2,3,4],{1,2,3,4})"
   ]
  },
  {
   "cell_type": "code",
   "execution_count": null,
   "id": "9855431f-d01f-45c9-95dc-89d134782cc7",
   "metadata": {},
   "outputs": [],
   "source": [
    "# **kwargs\n",
    "1.allow any no of keyboard \n",
    "aruguments but this is passed\n",
    "as a dictionary with in funtion\n"
   ]
  },
  {
   "cell_type": "code",
   "execution_count": 46,
   "id": "fd1b633c-f02f-4405-9430-363fd184f623",
   "metadata": {},
   "outputs": [],
   "source": [
    "def chetan_2(**chetan):\n",
    "    return chetan"
   ]
  },
  {
   "cell_type": "code",
   "execution_count": 47,
   "id": "8a95de36-3a09-4df5-bcb8-de84db694fb3",
   "metadata": {},
   "outputs": [
    {
     "data": {
      "text/plain": [
       "{'name': 'chetan', 'collage': 'amity', 'course': 'bca'}"
      ]
     },
     "execution_count": 47,
     "metadata": {},
     "output_type": "execute_result"
    }
   ],
   "source": [
    "chetan_2(\n",
    "        name = \"chetan\",\n",
    "         collage = \"amity\",\n",
    "         course = \"bca\"\n",
    "        )"
   ]
  },
  {
   "cell_type": "code",
   "execution_count": null,
   "id": "685b9db5-b45c-4604-8e02-f650966854ce",
   "metadata": {},
   "outputs": [],
   "source": [
    "What is an iterator in python? Name the method used to initialise the iterator object and the method\n",
    "used for iteration. Use these methods to print the first five elements of the given list [2, 4, 6, 8, 10, 12, 14, 16,\n",
    "18, 20]."
   ]
  },
  {
   "cell_type": "code",
   "execution_count": null,
   "id": "96c15446-22d0-41ac-8dcf-1cfe5c153c6d",
   "metadata": {},
   "outputs": [],
   "source": [
    "itertator allow you to iterate\n",
    "over a sequence at a point of time "
   ]
  },
  {
   "cell_type": "code",
   "execution_count": 60,
   "id": "589118c5-7084-46dd-b078-1e5e4f2f2ed4",
   "metadata": {},
   "outputs": [
    {
     "name": "stdout",
     "output_type": "stream",
     "text": [
      "2\n",
      "4\n",
      "6\n",
      "8\n",
      "10\n"
     ]
    }
   ],
   "source": [
    "chetan_1=[2, 4, 6, 8, 10, 12, 14, 16,18, 20]\n",
    "iterator = iter(chetan_1)\n",
    "\n",
    "for i in range(5):\n",
    "    test = next(iterator)\n",
    "    print(test)\n",
    "\n"
   ]
  },
  {
   "cell_type": "code",
   "execution_count": null,
   "id": "a63175c3-eca5-4629-8a93-f691f0675681",
   "metadata": {},
   "outputs": [],
   "source": [
    "q.4What is a generator function in python? Why yield keyword is used? Give an example of a generator\n",
    "function."
   ]
  },
  {
   "cell_type": "code",
   "execution_count": null,
   "id": "fdec2b09-9e99-4256-96a6-bf2083f4ecb6",
   "metadata": {},
   "outputs": [],
   "source": [
    "1.genrates sequence of values using yield instead return\n"
   ]
  },
  {
   "cell_type": "code",
   "execution_count": 63,
   "id": "f26c39a1-67a2-46fb-84fc-104f52e4f395",
   "metadata": {},
   "outputs": [],
   "source": [
    "def chetan_1(n):\n",
    "    a,b = 0,1\n",
    "    for i in range(n):\n",
    "        yield a \n",
    "        a,b = b , b+a"
   ]
  },
  {
   "cell_type": "code",
   "execution_count": 69,
   "id": "659ae45f-698b-4448-8532-583639114b83",
   "metadata": {},
   "outputs": [
    {
     "data": {
      "text/plain": [
       "<generator object chetan_1 at 0x7fd207bc4890>"
      ]
     },
     "execution_count": 69,
     "metadata": {},
     "output_type": "execute_result"
    }
   ],
   "source": [
    "chetan_1(20)"
   ]
  },
  {
   "cell_type": "code",
   "execution_count": 70,
   "id": "af7d56de-7bfc-41c2-a365-67577cd5562b",
   "metadata": {},
   "outputs": [
    {
     "name": "stdout",
     "output_type": "stream",
     "text": [
      "0\n",
      "1\n",
      "1\n",
      "2\n",
      "3\n",
      "5\n",
      "8\n",
      "13\n",
      "21\n",
      "34\n",
      "55\n",
      "89\n",
      "144\n",
      "233\n",
      "377\n",
      "610\n",
      "987\n",
      "1597\n",
      "2584\n",
      "4181\n"
     ]
    }
   ],
   "source": [
    "for i in chetan_1(20):\n",
    "    print(i)\n"
   ]
  },
  {
   "cell_type": "code",
   "execution_count": 71,
   "id": "f64acc5a-9540-440c-b126-fa3f2a448920",
   "metadata": {},
   "outputs": [
    {
     "ename": "SyntaxError",
     "evalue": "invalid syntax (3816614174.py, line 1)",
     "output_type": "error",
     "traceback": [
      "\u001b[0;36m  Cell \u001b[0;32mIn[71], line 1\u001b[0;36m\u001b[0m\n\u001b[0;31m    Create a generator function for prime numbers less than 1000. Use the next() method to print the\u001b[0m\n\u001b[0m           ^\u001b[0m\n\u001b[0;31mSyntaxError\u001b[0m\u001b[0;31m:\u001b[0m invalid syntax\n"
     ]
    }
   ],
   "source": [
    "q.5Create a generator function for prime numbers less than 1000. Use the next() method to print the\n",
    "first 20 prime numbers."
   ]
  },
  {
   "cell_type": "code",
   "execution_count": null,
   "id": "248eb2ba-780d-473b-92b2-a54d18c8bee1",
   "metadata": {},
   "outputs": [],
   "source": [
    "def "
   ]
  },
  {
   "cell_type": "code",
   "execution_count": null,
   "id": "378dd669-b66d-4c60-935a-cf3b87fdd65d",
   "metadata": {},
   "outputs": [],
   "source": []
  },
  {
   "cell_type": "code",
   "execution_count": null,
   "id": "275041d5-aa17-46e6-8b4d-dab081eb5255",
   "metadata": {},
   "outputs": [],
   "source": []
  },
  {
   "cell_type": "code",
   "execution_count": null,
   "id": "13a1204c-3ea6-49c0-81de-9f99e38fb488",
   "metadata": {},
   "outputs": [],
   "source": []
  },
  {
   "cell_type": "code",
   "execution_count": null,
   "id": "70998e12-1eda-4638-92c3-a0849988403d",
   "metadata": {},
   "outputs": [],
   "source": []
  }
 ],
 "metadata": {
  "kernelspec": {
   "display_name": "Python 3 (ipykernel)",
   "language": "python",
   "name": "python3"
  },
  "language_info": {
   "codemirror_mode": {
    "name": "ipython",
    "version": 3
   },
   "file_extension": ".py",
   "mimetype": "text/x-python",
   "name": "python",
   "nbconvert_exporter": "python",
   "pygments_lexer": "ipython3",
   "version": "3.10.8"
  }
 },
 "nbformat": 4,
 "nbformat_minor": 5
}
