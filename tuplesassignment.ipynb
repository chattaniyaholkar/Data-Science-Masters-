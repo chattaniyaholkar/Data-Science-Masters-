{
 "cells": [
  {
   "cell_type": "code",
   "execution_count": 1,
   "id": "63001970-3e27-4b90-a7e7-4f2cd37ba471",
   "metadata": {},
   "outputs": [],
   "source": [
    "## characterstic of tuples "
   ]
  },
  {
   "cell_type": "code",
   "execution_count": 2,
   "id": "3c6363d2-6125-4a73-a803-7e50981c2925",
   "metadata": {},
   "outputs": [
    {
     "ename": "NameError",
     "evalue": "name 'question1' is not defined",
     "output_type": "error",
     "traceback": [
      "\u001b[0;31m---------------------------------------------------------------------------\u001b[0m",
      "\u001b[0;31mNameError\u001b[0m                                 Traceback (most recent call last)",
      "Cell \u001b[0;32mIn[2], line 1\u001b[0m\n\u001b[0;32m----> 1\u001b[0m \u001b[43mquestion1\u001b[49m\n",
      "\u001b[0;31mNameError\u001b[0m: name 'question1' is not defined"
     ]
    }
   ],
   "source": [
    "question1"
   ]
  },
  {
   "cell_type": "code",
   "execution_count": null,
   "id": "e82a0695-bc49-414b-8cb3-eab8cf977a7f",
   "metadata": {},
   "outputs": [],
   "source": [
    "1.tuples positions are fixed (example)"
   ]
  },
  {
   "cell_type": "code",
   "execution_count": null,
   "id": "fa9f27b8-e91a-49e2-b493-6c6a9358aec2",
   "metadata": {},
   "outputs": [],
   "source": [
    "a=(1,2,3,4,\"chetan\",True)"
   ]
  },
  {
   "cell_type": "code",
   "execution_count": null,
   "id": "4846bb93-bc7d-453d-a78d-f959fc8c1212",
   "metadata": {},
   "outputs": [],
   "source": [
    "a[0] = \"chetanholkar\""
   ]
  },
  {
   "cell_type": "code",
   "execution_count": null,
   "id": "2182317d-1504-4b8c-8f22-f9c409e3d326",
   "metadata": {},
   "outputs": [],
   "source": [
    "2.tuple contains different data types like float bollean intger ectt..\n",
    "3.tuples are immutable its elements does not change like a list elements"
   ]
  },
  {
   "cell_type": "code",
   "execution_count": null,
   "id": "f3a48990-c6d5-4e03-ba17-cb582d6ea4b0",
   "metadata": {},
   "outputs": [],
   "source": [
    "##tuples is immutable \n",
    "tyes tuples is immutable because it's elemnets are fixed and does not modified"
   ]
  },
  {
   "cell_type": "code",
   "execution_count": null,
   "id": "0f7c5412-f359-44f6-bac9-21223af00bf2",
   "metadata": {},
   "outputs": [],
   "source": [
    "question 2 . What are the two tuple methods in python? Give an example of each method. Give a reason why\n",
    "tuples have only two in-built methods as compared to Lists."
   ]
  },
  {
   "cell_type": "code",
   "execution_count": null,
   "id": "f53e7742-f58d-4c8b-afaf-014849d85742",
   "metadata": {},
   "outputs": [],
   "source": [
    "ans. there are two types of methods in tuples \n",
    "1.count\n",
    "2.index"
   ]
  },
  {
   "cell_type": "code",
   "execution_count": null,
   "id": "96b99f09-b4a7-465e-b3dd-7f7505c07ab5",
   "metadata": {},
   "outputs": [],
   "source": [
    "#examples of two methods"
   ]
  },
  {
   "cell_type": "code",
   "execution_count": null,
   "id": "194e6c2f-d302-4591-b0ba-82c1f17d7765",
   "metadata": {},
   "outputs": [],
   "source": [
    "a = (1,2,3,4,5,\"pw is best \" , \"chetanholkar\")"
   ]
  },
  {
   "cell_type": "code",
   "execution_count": null,
   "id": "c47dd3f8-0a31-4a96-80a7-6291bd965c17",
   "metadata": {},
   "outputs": [],
   "source": [
    "a.count(\"pw is best \")## this methdo checks a elements in tuple "
   ]
  },
  {
   "cell_type": "code",
   "execution_count": null,
   "id": "fe407d88-5414-43c0-93c2-00f73ef9a99c",
   "metadata": {},
   "outputs": [],
   "source": [
    "a.index(\"chetanholkar\")## this methods check a total varible in particular string or elements"
   ]
  },
  {
   "cell_type": "code",
   "execution_count": null,
   "id": "4344897a-b40d-4c5c-b73f-337d8a26e55b",
   "metadata": {},
   "outputs": [],
   "source": [
    "tuples have only two in built functions because there immutabillity and perfomance due \n",
    "fixed elements the reading speed of tuple is faster than a list\n"
   ]
  },
  {
   "cell_type": "code",
   "execution_count": null,
   "id": "9bbce9b2-1d0b-41ea-8403-f7e7ccb5025d",
   "metadata": {},
   "outputs": [],
   "source": [
    "Q.3 Which collection datatypes in python do not allow duplicate items? Write a code using a set to remove\n",
    "duplicates from the given list."
   ]
  },
  {
   "cell_type": "code",
   "execution_count": null,
   "id": "6c136c12-7c4d-49a7-a46a-1f9521ffb986",
   "metadata": {},
   "outputs": [],
   "source": [
    "set1 = { 1,1,2,2,3,3,\"chetan\",\"chetan\",\"jaishriram\"}"
   ]
  },
  {
   "cell_type": "code",
   "execution_count": null,
   "id": "2b7adf26-0061-431c-bbdb-ee8c76d61217",
   "metadata": {},
   "outputs": [],
   "source": [
    "set1"
   ]
  },
  {
   "cell_type": "code",
   "execution_count": null,
   "id": "56df6fa8-5baa-498f-bf91-71b11cccbc93",
   "metadata": {},
   "outputs": [],
   "source": [
    "set collection data types in python do not allow to duplicate items"
   ]
  },
  {
   "cell_type": "code",
   "execution_count": null,
   "id": "a6d0f817-cc89-4f39-a192-dd42a0249d45",
   "metadata": {},
   "outputs": [],
   "source": [
    "List = [1, 1, 1, 2, 1, 3, 1, 4, 2, 1, 2, 2, 2, 3, 2, 4, 3, 1, 3, 2, 3, 3, 3, 4, 4, 1, 4, 2, 4, 3, 4, 4]"
   ]
  },
  {
   "cell_type": "code",
   "execution_count": null,
   "id": "a5f502e8-018b-48e2-b7b0-8f0c73fbe2d0",
   "metadata": {},
   "outputs": [],
   "source": [
    "ques3 = list(set(List))\n",
    "print(ques3)\n",
    "    "
   ]
  },
  {
   "cell_type": "code",
   "execution_count": null,
   "id": "1013ed6d-5713-46c6-8fcf-1d81d46f7b38",
   "metadata": {},
   "outputs": [],
   "source": [
    "question4.Q4. Explain the difference between the union() and update() methods for a set. Give an example of\n",
    "each method."
   ]
  },
  {
   "cell_type": "code",
   "execution_count": null,
   "id": "8141459a-5e49-47d9-8956-b0933afdc1b4",
   "metadata": {},
   "outputs": [],
   "source": [
    "#updaate method \n"
   ]
  },
  {
   "cell_type": "code",
   "execution_count": 2,
   "id": "59e43aa1-94ae-4ade-9e69-07edda986d9b",
   "metadata": {},
   "outputs": [],
   "source": [
    "## update method  example \n",
    "set1 = {\"chetan\", \"mummy\"}\n",
    "set2 = {\"pwskills\" , \"krishsiriloveyou\"}\n",
    "set1.update(set2)"
   ]
  },
  {
   "cell_type": "code",
   "execution_count": 8,
   "id": "8469c78e-ef2b-4041-bb83-6e53731fc372",
   "metadata": {},
   "outputs": [
    {
     "data": {
      "text/plain": [
       "{'chetan', 'krishsiriloveyou', 'mummy', 'pwskills'}"
      ]
     },
     "execution_count": 8,
     "metadata": {},
     "output_type": "execute_result"
    }
   ],
   "source": [
    "set1 ## set 1 is updated "
   ]
  },
  {
   "cell_type": "code",
   "execution_count": 9,
   "id": "7d309283-f7b4-4ae7-9a07-c8798e325eed",
   "metadata": {},
   "outputs": [
    {
     "data": {
      "text/plain": [
       "{'krishsiriloveyou', 'pwskills'}"
      ]
     },
     "execution_count": 9,
     "metadata": {},
     "output_type": "execute_result"
    }
   ],
   "source": [
    "set2"
   ]
  },
  {
   "cell_type": "code",
   "execution_count": 7,
   "id": "4b90c1f1-5c3d-46e6-a25e-fbe4d273101d",
   "metadata": {},
   "outputs": [],
   "source": [
    "differnece between set and uninon method "
   ]
  },
  {
   "cell_type": "code",
   "execution_count": null,
   "id": "a12c4c22-6c4c-409a-80ee-510a81e81e39",
   "metadata": {},
   "outputs": [],
   "source": [
    "Return value \n",
    "1.in union method it return a new set combine a set and gives new set without any chaing in sets\n",
    "2.in update method not retuen any value it modies a set and combine another and giving to the user\n",
    "\n",
    "modify\n",
    "\n",
    "1.union() dost not modify any set it creates a new set\n",
    "2. update() modify the orignal set and combine another direclty"
   ]
  },
  {
   "cell_type": "code",
   "execution_count": null,
   "id": "1b150683-32d8-481a-8caf-482e45738ae7",
   "metadata": {},
   "outputs": [],
   "source": [
    "Q5. What is a dictionary? Give an example. Also, state whether a dictionary is ordered or unordered."
   ]
  },
  {
   "cell_type": "code",
   "execution_count": null,
   "id": "f895a4d6-10af-46d1-965a-3f39f0f07881",
   "metadata": {},
   "outputs": [],
   "source": [
    "dictionaty is a built in data structure it have a key and value \n",
    "and dictionary is mutable \n",
    "only contain data keys and values"
   ]
  },
  {
   "cell_type": "code",
   "execution_count": 25,
   "id": "ade52ca1-94a8-4a1c-aa03-f120d5b95f55",
   "metadata": {},
   "outputs": [],
   "source": [
    "#emaxple \n",
    "chetan_dic={ \n",
    "             \"name\" : 'chattaniya' ,\n",
    "             \"age\"  :  19 ,\n",
    "             \"collage\" : \"amityuniversity\",\n",
    "           }"
   ]
  },
  {
   "cell_type": "code",
   "execution_count": 23,
   "id": "9b9ac95c-cdb3-4b8f-8528-88d849738d01",
   "metadata": {},
   "outputs": [
    {
     "name": "stdout",
     "output_type": "stream",
     "text": [
      "{'name': 'chattaniya', 'age': 19, 'collage': 'amityuniversity'}\n"
     ]
    }
   ],
   "source": [
    "print(chetan_dic)\n"
   ]
  },
  {
   "cell_type": "code",
   "execution_count": 27,
   "id": "734dd102-0735-4705-85b9-ecf72739ff45",
   "metadata": {},
   "outputs": [
    {
     "data": {
      "text/plain": [
       "'chattaniya'"
      ]
     },
     "execution_count": 27,
     "metadata": {},
     "output_type": "execute_result"
    }
   ],
   "source": [
    "chetan_dic[\"name\"] ## particular value "
   ]
  },
  {
   "cell_type": "code",
   "execution_count": null,
   "id": "0a51dcc0-7532-4ce1-a49b-483acac05364",
   "metadata": {},
   "outputs": [],
   "source": [
    "dic is unoredered beacuse the elements of dic are not stored in \n",
    "a particular order ."
   ]
  },
  {
   "cell_type": "code",
   "execution_count": null,
   "id": "802dedc1-cf3a-4c3d-bf32-9729207f45e2",
   "metadata": {},
   "outputs": [],
   "source": [
    "Q.6 Can we create a nested dictionary? If so, please give an example by creating a simple one-level\n",
    "nested dictionary."
   ]
  },
  {
   "cell_type": "code",
   "execution_count": 128,
   "id": "b90df61b-1eca-4cf4-b6ac-7da3985c2b93",
   "metadata": {},
   "outputs": [],
   "source": [
    "nested = { 'chetan' : {'name' : \"chetan\" , 'class' : \"amity\"},\n",
    "          'ikku' : {\"age\" : 19 }}"
   ]
  },
  {
   "cell_type": "code",
   "execution_count": 129,
   "id": "ae86769a-4105-40c3-af71-6de821d2e16b",
   "metadata": {},
   "outputs": [
    {
     "data": {
      "text/plain": [
       "{'name': 'chetan', 'class': 'amity'}"
      ]
     },
     "execution_count": 129,
     "metadata": {},
     "output_type": "execute_result"
    }
   ],
   "source": [
    "nested['chetan']"
   ]
  },
  {
   "cell_type": "code",
   "execution_count": 130,
   "id": "33ed94de-f2af-428c-966c-fc4c48a6264c",
   "metadata": {},
   "outputs": [
    {
     "data": {
      "text/plain": [
       "{'age': 19}"
      ]
     },
     "execution_count": 130,
     "metadata": {},
     "output_type": "execute_result"
    }
   ],
   "source": [
    "nested['ikku']"
   ]
  },
  {
   "cell_type": "code",
   "execution_count": 132,
   "id": "a1d0295c-1ed3-4df7-8056-5cb654471285",
   "metadata": {},
   "outputs": [],
   "source": [
    "## syntax of nested dic\n",
    "varible = {'dic' : { \"key\" : \"value\" }, \n",
    "           'dic2' :{ \"key\" : \"value\"}}"
   ]
  },
  {
   "cell_type": "code",
   "execution_count": 134,
   "id": "0883668b-c691-4198-b8d1-fd6fda165f3d",
   "metadata": {},
   "outputs": [],
   "source": [
    "Q.7 Using setdefault() method, create key named topics in the given dictionary and also add the value of\n",
    "the key as this list ['Python', 'Machine Learning’, 'Deep Learning']"
   ]
  },
  {
   "cell_type": "code",
   "execution_count": 146,
   "id": "73f3a27b-cb91-4c3a-a357-27c94cda8b82",
   "metadata": {},
   "outputs": [],
   "source": [
    "chetan_1= { \"topic\" :\n",
    "    ['Python', \n",
    "      \"Machine Learning\",\n",
    "      \"Deep Learning\"]\n",
    "          }"
   ]
  },
  {
   "cell_type": "code",
   "execution_count": 148,
   "id": "1f27c006-25c4-4b83-a0f3-4979cbfb7f96",
   "metadata": {},
   "outputs": [],
   "source": [
    "chetan_1.setdefault(\"topic\")## return a value of key if is in dic else nothng "
   ]
  },
  {
   "cell_type": "code",
   "execution_count": 150,
   "id": "22672790-bb59-4577-b855-bf419c9030f2",
   "metadata": {},
   "outputs": [],
   "source": [
    "dict1 = {'language' : 'Python', 'course': 'Data Science Masters'}"
   ]
  },
  {
   "cell_type": "code",
   "execution_count": 151,
   "id": "36e8a105-ddfe-43b4-bd97-71cf1d1a989d",
   "metadata": {},
   "outputs": [
    {
     "data": {
      "text/plain": [
       "'Data Science Masters'"
      ]
     },
     "execution_count": 151,
     "metadata": {},
     "output_type": "execute_result"
    }
   ],
   "source": [
    "dict1.setdefault(\"course\")"
   ]
  },
  {
   "cell_type": "code",
   "execution_count": null,
   "id": "29cd0930-118f-4fd8-aafa-40ec51ed9187",
   "metadata": {},
   "outputs": [],
   "source": [
    "Q.8 Q8. What are the three view objects in dictionaries? Use the three in-built methods in python to display\n",
    "these three view objects for the given dictionary.\n",
    "dict1 = {'Sport': 'Cricket' , 'Teams': ['India', 'Australia', 'England', 'South Africa', 'Sri Lanka', 'New Zealand']}"
   ]
  },
  {
   "cell_type": "code",
   "execution_count": null,
   "id": "256e95f9-24ea-4655-8f97-95957b4556da",
   "metadata": {},
   "outputs": [],
   "source": [
    "1.keys\n",
    "2.values\n",
    "3.items"
   ]
  },
  {
   "cell_type": "code",
   "execution_count": 152,
   "id": "f6b73f6e-d44d-457c-8b8f-599c284cb390",
   "metadata": {},
   "outputs": [],
   "source": [
    "dict1 = {'Sport': 'Cricket' , 'Teams': ['India', 'Australia', 'England', 'South Africa', 'Sri Lanka', 'New Zealand']}"
   ]
  },
  {
   "cell_type": "code",
   "execution_count": 156,
   "id": "a2ca33bb-b509-4f0b-b5c9-8a5d1601334c",
   "metadata": {},
   "outputs": [],
   "source": [
    "var = dict1.keys()"
   ]
  },
  {
   "cell_type": "code",
   "execution_count": 157,
   "id": "72c37fb4-3091-48ba-ad54-24ccfa9800d3",
   "metadata": {},
   "outputs": [
    {
     "data": {
      "text/plain": [
       "dict_keys(['Sport', 'Teams'])"
      ]
     },
     "execution_count": 157,
     "metadata": {},
     "output_type": "execute_result"
    }
   ],
   "source": [
    "var"
   ]
  },
  {
   "cell_type": "code",
   "execution_count": 163,
   "id": "1f7170c0-23d5-4ce0-8b78-7f747e2b9c80",
   "metadata": {},
   "outputs": [
    {
     "data": {
      "text/plain": [
       "dict_keys(['Sport', 'Teams'])"
      ]
     },
     "execution_count": 163,
     "metadata": {},
     "output_type": "execute_result"
    }
   ],
   "source": [
    "dict1.keys()"
   ]
  },
  {
   "cell_type": "code",
   "execution_count": 167,
   "id": "cb6b8ff9-c9bb-477f-9a76-aece7667ba3d",
   "metadata": {},
   "outputs": [
    {
     "data": {
      "text/plain": [
       "dict_values(['Cricket', ['India', 'Australia', 'England', 'South Africa', 'Sri Lanka', 'New Zealand']])"
      ]
     },
     "execution_count": 167,
     "metadata": {},
     "output_type": "execute_result"
    }
   ],
   "source": [
    "## values \n",
    "dict1.values()"
   ]
  },
  {
   "cell_type": "code",
   "execution_count": 168,
   "id": "e67299cc-ba98-4b20-9452-999c54b39078",
   "metadata": {},
   "outputs": [
    {
     "data": {
      "text/plain": [
       "dict_items([('Sport', 'Cricket'), ('Teams', ['India', 'Australia', 'England', 'South Africa', 'Sri Lanka', 'New Zealand'])])"
      ]
     },
     "execution_count": 168,
     "metadata": {},
     "output_type": "execute_result"
    }
   ],
   "source": [
    "## itemes\n",
    "dict1.items()"
   ]
  },
  {
   "cell_type": "code",
   "execution_count": null,
   "id": "528761d6-0611-45de-b0ec-da6bc673ccf6",
   "metadata": {},
   "outputs": [],
   "source": [
    "\n",
    "completed"
   ]
  },
  {
   "cell_type": "code",
   "execution_count": null,
   "id": "60e599da-8208-4fb3-84f6-886a627dbba8",
   "metadata": {},
   "outputs": [],
   "source": []
  },
  {
   "cell_type": "code",
   "execution_count": null,
   "id": "5c256ff8-17f7-454d-b1d6-9438b9b0e9e1",
   "metadata": {},
   "outputs": [],
   "source": []
  },
  {
   "cell_type": "code",
   "execution_count": null,
   "id": "89e051a5-a943-40d6-972b-637173c3ce28",
   "metadata": {},
   "outputs": [],
   "source": []
  },
  {
   "cell_type": "code",
   "execution_count": null,
   "id": "c32c94b9-40ed-4729-a57b-26d3406d3822",
   "metadata": {},
   "outputs": [],
   "source": []
  },
  {
   "cell_type": "code",
   "execution_count": null,
   "id": "4469a394-f8f2-4c32-b5b9-ebd1921a2da1",
   "metadata": {},
   "outputs": [],
   "source": []
  },
  {
   "cell_type": "code",
   "execution_count": null,
   "id": "887d4cb5-028b-4a87-9475-e1ba05404c14",
   "metadata": {},
   "outputs": [],
   "source": []
  }
 ],
 "metadata": {
  "kernelspec": {
   "display_name": "Python 3 (ipykernel)",
   "language": "python",
   "name": "python3"
  },
  "language_info": {
   "codemirror_mode": {
    "name": "ipython",
    "version": 3
   },
   "file_extension": ".py",
   "mimetype": "text/x-python",
   "name": "python",
   "nbconvert_exporter": "python",
   "pygments_lexer": "ipython3",
   "version": "3.10.8"
  }
 },
 "nbformat": 4,
 "nbformat_minor": 5
}
