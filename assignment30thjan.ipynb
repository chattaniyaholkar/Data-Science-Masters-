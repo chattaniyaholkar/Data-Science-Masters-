{
 "cells": [
  {
   "cell_type": "code",
   "execution_count": 1,
   "id": "52e6386c-cf1f-449f-bd99-c8c9e04505fe",
   "metadata": {},
   "outputs": [
    {
     "name": "stdin",
     "output_type": "stream",
     "text": [
      "plz write your percentage  fjldsjl\n"
     ]
    },
    {
     "ename": "ValueError",
     "evalue": "invalid literal for int() with base 10: 'fjldsjl'",
     "output_type": "error",
     "traceback": [
      "\u001b[0;31m---------------------------------------------------------------------------\u001b[0m",
      "\u001b[0;31mValueError\u001b[0m                                Traceback (most recent call last)",
      "Cell \u001b[0;32mIn[1], line 2\u001b[0m\n\u001b[1;32m      1\u001b[0m \u001b[38;5;66;03m# ANS 1 30 jan assignment questions \u001b[39;00m\n\u001b[0;32m----> 2\u001b[0m per\u001b[38;5;241m=\u001b[39m\u001b[38;5;28;43mint\u001b[39;49m\u001b[43m(\u001b[49m\u001b[38;5;28;43minput\u001b[39;49m\u001b[43m(\u001b[49m\u001b[38;5;124;43m\"\u001b[39;49m\u001b[38;5;124;43mplz write your percentage \u001b[39;49m\u001b[38;5;124;43m\"\u001b[39;49m\u001b[43m)\u001b[49m\u001b[43m)\u001b[49m\n\u001b[1;32m      3\u001b[0m \u001b[38;5;28;01mif\u001b[39;00m per\u001b[38;5;241m>\u001b[39m\u001b[38;5;241m90\u001b[39m :\n\u001b[1;32m      4\u001b[0m      \u001b[38;5;28mprint\u001b[39m(\u001b[38;5;124m\"\u001b[39m\u001b[38;5;124mGrade A \u001b[39m\u001b[38;5;124m\"\u001b[39m)\n",
      "\u001b[0;31mValueError\u001b[0m: invalid literal for int() with base 10: 'fjldsjl'"
     ]
    }
   ],
   "source": [
    "# ANS 1 30 jan assignment questions \n",
    "per=int(input(\"plz write your percentage \"))\n",
    "if per>90 :\n",
    "     print(\"Grade A \")\n",
    "if per>80 and per<=90 :\n",
    "     print(\"Grade B \")\n",
    "if per>=60 and per<=80 :\n",
    "    print(\"Grade C \")\n",
    "else :\n",
    "    print(\"Grade D \")\n",
    "    \n",
    "        "
   ]
  },
  {
   "cell_type": "code",
   "execution_count": 7,
   "id": "4a536769-8e26-4b82-9d2d-368ede289d20",
   "metadata": {},
   "outputs": [
    {
     "name": "stdin",
     "output_type": "stream",
     "text": [
      "Write the city name  Delhi\n"
     ]
    },
    {
     "name": "stdout",
     "output_type": "stream",
     "text": [
      " Monument is Red fort\n",
      "city is not defined\n"
     ]
    }
   ],
   "source": [
    "# Ans 3 \n",
    "city=input(\"Write the city name \")\n",
    "if city==\"Delhi\":\n",
    "    print(\" Monument is Red fort\")\n",
    "if city==\"Agra\":\n",
    "     print(\"Monumet is taj mahal \")\n",
    "if city==\"jaipur\":\n",
    "    print(\"Monument is jal Mahal \")\n",
    "else :\n",
    "    print(\"city is not defined\")\n",
    "  \n",
    "       \n",
    "\n"
   ]
  },
  {
   "cell_type": "code",
   "execution_count": null,
   "id": "d65fa7d8-84e1-4556-abe8-7dd261d4044b",
   "metadata": {},
   "outputs": [],
   "source": [
    "# Ans 4 \n",
    " num=int(input(\"write a no betwwen 1 to 10\")\n",
    " if "
   ]
  },
  {
   "cell_type": "code",
   "execution_count": null,
   "id": "c4e82208-496f-43ed-8aff-18f2bf013a68",
   "metadata": {},
   "outputs": [],
   "source": [
    "n=7\n",
    "\n",
    "while i in range (n):\n",
    "    for j in range (i+1):\n",
    "        print(\"*\",end=\"\")\n",
    "    print(\"\\r\")\n",
    "    \n"
   ]
  },
  {
   "cell_type": "code",
   "execution_count": null,
   "id": "92d3d491-0e7a-4332-a08e-e52b9c694b9d",
   "metadata": {},
   "outputs": [],
   "source": [
    "# Ans 2 \n",
    "tax=int(input(\"write the cost of a bike\"))\n",
    "if tax>100000 :\n",
    "        print(\"road tax is 15% appllied\")\n",
    "        if tax>50000 and tax<=100000:\n",
    "            print(\" road tax is 10% applied in you bike \")\n",
    "            if tax<=50000:\n",
    "                 print(\"5% road tax applied\")\n",
    "else :\n",
    "    print(\" ivalid details\")\n",
    "    \n",
    "\n",
    "\n",
    "           "
   ]
  },
  {
   "cell_type": "code",
   "execution_count": null,
   "id": "edf4be2c-a300-41fc-933b-2db446f01aae",
   "metadata": {},
   "outputs": [],
   "source": [
    "# Ans 8\n",
    "i = 10\n",
    "while i > 0:\n",
    "    print(i)\n",
    "    i = i - 1\n",
    "   "
   ]
  },
  {
   "cell_type": "code",
   "execution_count": null,
   "id": "d12e59df-2536-4be0-9a73-04abe380e9c5",
   "metadata": {},
   "outputs": [],
   "source": [
    "# Ans 6\n",
    "i=1\n",
    "while i<=5:\n",
    "    j=1\n",
    "    while j<=i:\n",
    "        print(j,end=\" \")\n",
    "        j=j+1\n",
    "    print(\"\")\n",
    "    i=i+1"
   ]
  },
  {
   "cell_type": "code",
   "execution_count": 10,
   "id": "8a969a95-f307-4200-9db3-722595abb047",
   "metadata": {},
   "outputs": [
    {
     "name": "stdout",
     "output_type": "stream",
     "text": [
      "\n",
      "\n",
      "3 \n",
      "3 4 \n",
      "3 4 5 \n"
     ]
    }
   ],
   "source": [
    "i=1\n",
    "while i<=5:\n",
    "    j=3\n",
    "    while j<=i:\n",
    "        print(j,end=\" \")\n",
    "        j=j+1\n",
    "    print(\"\")\n",
    "    i=i+1"
   ]
  },
  {
   "cell_type": "code",
   "execution_count": 20,
   "id": "6db3f1a4-4faa-4a99-aef3-4eb942e67897",
   "metadata": {},
   "outputs": [
    {
     "name": "stdout",
     "output_type": "stream",
     "text": [
      "\n",
      "2 1 3 3 \n",
      "2 1 3 3 \n",
      "2 1 3 3 4 1 3 5 5 \n",
      "2 1 3 3 4 1 3 5 5 \n"
     ]
    }
   ],
   "source": [
    "i=1\n",
    "while i<=5:\n",
    "    j=2\n",
    "    while j<=i:\n",
    "        k=1\n",
    "        print(j,end=\" \")\n",
    "        j=j+1\n",
    "        while k<=j:\n",
    "            print(k,end=\" \")\n",
    "            k=k+2\n",
    "        print(j,end=\" \")\n",
    "        j=j+1\n",
    "    print(\"\")\n",
    "    i=i+1"
   ]
  },
  {
   "cell_type": "code",
   "execution_count": null,
   "id": "d51fec33-9e35-48a8-a8cd-da502177a1c8",
   "metadata": {},
   "outputs": [],
   "source": [
    "# Ans 5 \n",
    "# A while loop will run a piece of code while a condition is True. It will keep executing the desired\n",
    "# set of code statements until that condition is no longer True.\n",
    "# A while loop will always first check the condition before running.\n",
    "\n",
    "# If the condition evaluates to True then the loop will run the code within the loop's body."
   ]
  },
  {
   "cell_type": "code",
   "execution_count": 21,
   "id": "b68dfc7a-424f-4ed9-9f9f-665d317f29c6",
   "metadata": {},
   "outputs": [
    {
     "name": "stdout",
     "output_type": "stream",
     "text": [
      "Number is 0!\n",
      "Number is 1!\n",
      "Number is 2!\n",
      "Number is 3!\n",
      "Number is 4!\n",
      "Number is 5!\n",
      "Number is 6!\n",
      "Number is 7!\n",
      "Number is 8!\n",
      "Number is 9!\n"
     ]
    }
   ],
   "source": [
    "number = 0\n",
    "while number < 10:\n",
    "    print(f\"Number is {number}!\")\n",
    "    number = number + 1"
   ]
  },
  {
   "cell_type": "code",
   "execution_count": 22,
   "id": "5176fd22-d3db-43f2-ab86-eaac16f0ebe4",
   "metadata": {},
   "outputs": [
    {
     "ename": "SyntaxError",
     "evalue": "unterminated string literal (detected at line 3) (2055144649.py, line 3)",
     "output_type": "error",
     "traceback": [
      "\u001b[0;36m  Cell \u001b[0;32mIn[22], line 3\u001b[0;36m\u001b[0m\n\u001b[0;31m    print(f\"my  age is decreasing{ age\u001b[0m\n\u001b[0m          ^\u001b[0m\n\u001b[0;31mSyntaxError\u001b[0m\u001b[0;31m:\u001b[0m unterminated string literal (detected at line 3)\n"
     ]
    }
   ],
   "source": [
    "age = 1\n",
    "while age <18:\n",
    "    print(f\"my  age is decreasing{ age }\")\n",
    "    age"
   ]
  },
  {
   "cell_type": "code",
   "execution_count": null,
   "id": "5f0de1c9-68e7-48f6-b2ef-d7d7a4d123e1",
   "metadata": {},
   "outputs": [],
   "source": []
  },
  {
   "cell_type": "code",
   "execution_count": null,
   "id": "292da469-4085-4e9f-bf6a-5b5616cb77b5",
   "metadata": {},
   "outputs": [],
   "source": []
  },
  {
   "cell_type": "code",
   "execution_count": null,
   "id": "737e9845-a0dd-4c6e-b122-346ec8874c23",
   "metadata": {},
   "outputs": [],
   "source": []
  }
 ],
 "metadata": {
  "kernelspec": {
   "display_name": "Python 3 (ipykernel)",
   "language": "python",
   "name": "python3"
  },
  "language_info": {
   "codemirror_mode": {
    "name": "ipython",
    "version": 3
   },
   "file_extension": ".py",
   "mimetype": "text/x-python",
   "name": "python",
   "nbconvert_exporter": "python",
   "pygments_lexer": "ipython3",
   "version": "3.10.8"
  }
 },
 "nbformat": 4,
 "nbformat_minor": 5
}
