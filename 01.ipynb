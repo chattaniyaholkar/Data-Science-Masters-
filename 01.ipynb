{
 "cells": [
  {
   "cell_type": "markdown",
   "id": "2d12203c-54d9-4cc1-93de-dc3575332e2f",
   "metadata": {},
   "source": [
    "a=10\n",
    "print(a)"
   ]
  },
  {
   "cell_type": "code",
   "execution_count": 17,
   "id": "00ffbecf-1f02-4c24-8d56-490b977b3067",
   "metadata": {},
   "outputs": [
    {
     "name": "stdout",
     "output_type": "stream",
     "text": [
      "10\n"
     ]
    }
   ],
   "source": [
    "## commnets \n",
    "# this code is conducting by pw skills\n",
    "\n",
    "\"\"\"\n",
    "multi line comment \n",
    "hello guys iam chetan holkar \n",
    "\"\"\"\n",
    "\n",
    "a=10\n",
    "\n",
    "print(a)"
   ]
  },
  {
   "cell_type": "markdown",
   "id": "9f1a3674-e8a9-4d75-9ca8-68dcef92db80",
   "metadata": {},
   "source": [
    "# Introduction\n",
    "## Introduction\n",
    "### Introduction"
   ]
  },
  {
   "cell_type": "code",
   "execution_count": 5,
   "id": "bd29ed19-6110-45a4-bebf-1e207af6e181",
   "metadata": {},
   "outputs": [],
   "source": [
    "#when you use a markdown tag in bleow of code and use single # the code increase automaticallyy\n"
   ]
  },
  {
   "cell_type": "markdown",
   "id": "b9517382-07b5-4674-8a10-c852064f78ea",
   "metadata": {},
   "source": [
    "###Numbers"
   ]
  },
  {
   "cell_type": "code",
   "execution_count": 7,
   "id": "12387e18-629c-40eb-9381-fb6cf5d4db3d",
   "metadata": {},
   "outputs": [
    {
     "name": "stdout",
     "output_type": "stream",
     "text": [
      "6\n"
     ]
    }
   ],
   "source": [
    "#add two numbers\n",
    "print(1+5)"
   ]
  },
  {
   "cell_type": "code",
   "execution_count": 8,
   "id": "221f0dee-5211-4420-bf8f-67994667b762",
   "metadata": {},
   "outputs": [
    {
     "name": "stdout",
     "output_type": "stream",
     "text": [
      "7\n"
     ]
    }
   ],
   "source": [
    "a=3\n",
    "b=4\n",
    "c=a+b\n",
    "print(c)"
   ]
  },
  {
   "cell_type": "markdown",
   "id": "8f65e80b-48a0-401f-9d42-ae9eb03e46a3",
   "metadata": {},
   "source": [
    "### print statements"
   ]
  },
  {
   "cell_type": "code",
   "execution_count": 9,
   "id": "8fb7bee1-27fb-43da-b16f-e1dabf9fc052",
   "metadata": {},
   "outputs": [
    {
     "name": "stdout",
     "output_type": "stream",
     "text": [
      "my name is chattaniya dev holkar\n"
     ]
    }
   ],
   "source": [
    "print(\"my name is chattaniya dev holkar\")"
   ]
  },
  {
   "cell_type": "code",
   "execution_count": 11,
   "id": "25c089fc-5b5f-429c-bc07-931996db2d2c",
   "metadata": {},
   "outputs": [
    {
     "name": "stdout",
     "output_type": "stream",
     "text": [
      "what is your name \n",
      " my name is chattaniya dev holkar\n"
     ]
    }
   ],
   "source": [
    "##multilne comments in python string \n",
    "print(\"what is your name \\n my name is chattaniya dev holkar\")"
   ]
  },
  {
   "cell_type": "markdown",
   "id": "6d6804f5-4ec0-418f-ae5d-68c93e35ca90",
   "metadata": {},
   "source": [
    "### varibales assignment "
   ]
  },
  {
   "cell_type": "code",
   "execution_count": 19,
   "id": "731a542c-259f-4e35-a68e-a0b2a736f3be",
   "metadata": {},
   "outputs": [
    {
     "name": "stdout",
     "output_type": "stream",
     "text": [
      "yellow\n"
     ]
    },
    {
     "data": {
      "text/plain": [
       "'\\nyou make a new varibale \\n    complier takes onlyl new variable \\n '"
      ]
     },
     "execution_count": 19,
     "metadata": {},
     "output_type": "execute_result"
    }
   ],
   "source": [
    "chetan_1=\"white\"\n",
    "chetan_2=\"amity\"\n",
    "\n",
    "chetan_1=\"yellow\"\n",
    "\n",
    "\n",
    "print(chetan_1)\n",
    "\n",
    "'''\n",
    "you make a new varibale \n",
    "    complier takes onlyl new variable \n",
    " '''\n",
    "\n"
   ]
  },
  {
   "cell_type": "code",
   "execution_count": 20,
   "id": "28a8fa93-ce53-4c31-bf3d-7953282703b1",
   "metadata": {},
   "outputs": [
    {
     "name": "stdout",
     "output_type": "stream",
     "text": [
      "<class 'str'>\n"
     ]
    }
   ],
   "source": [
    "#type funticon\n",
    "\n",
    "chetan_1=\"chetan holkar\"\n",
    "\n",
    "\n",
    "\n",
    "print(type(chetan_1))"
   ]
  },
  {
   "cell_type": "code",
   "execution_count": 25,
   "id": "02443ddb-f15a-4030-ae6f-23bb350f8c68",
   "metadata": {},
   "outputs": [
    {
     "name": "stdout",
     "output_type": "stream",
     "text": [
      "<class 'int'>\n"
     ]
    },
    {
     "data": {
      "text/plain": [
       "bool"
      ]
     },
     "execution_count": 25,
     "metadata": {},
     "output_type": "execute_result"
    }
   ],
   "source": [
    "number=34\n",
    "\n",
    "decimal=34.5\n",
    "\n",
    "boolean=True\n",
    "\n",
    "print(type(number))\n",
    "\n",
    "type(True)\n",
    "\n",
    "type\n",
    "\n"
   ]
  },
  {
   "cell_type": "markdown",
   "id": "2da75afb-4093-4ee7-9b95-304e131dfa73",
   "metadata": {},
   "source": [
    "### Varibles are case senstitive "
   ]
  },
  {
   "cell_type": "code",
   "execution_count": 2,
   "id": "a2fed3f0-d090-4a81-a13c-dc075fa576a5",
   "metadata": {},
   "outputs": [
    {
     "name": "stdout",
     "output_type": "stream",
     "text": [
      "Cheta\n",
      "CHETAN\n",
      "chetan\n"
     ]
    }
   ],
   "source": [
    "name=\"chetan\"\n",
    "NAME='CHETAN'\n",
    "Name='Cheta'\n",
    "\n",
    "print(Name)\n",
    "print(NAME)\n",
    "print(name)"
   ]
  },
  {
   "cell_type": "code",
   "execution_count": null,
   "id": "168575b8-f44e-478a-a2be-b5326e824c67",
   "metadata": {},
   "outputs": [],
   "source": [
    "#dont write varibles in the form of like1chetan 3 answe"
   ]
  },
  {
   "cell_type": "markdown",
   "id": "f15cd918-cdca-42aa-b9b2-8f148caeec85",
   "metadata": {},
   "source": [
    "### Boolean functions or typecasting "
   ]
  },
  {
   "cell_type": "code",
   "execution_count": 3,
   "id": "bc805414-3220-4e93-a4ea-2dd5d2f04967",
   "metadata": {},
   "outputs": [
    {
     "data": {
      "text/plain": [
       "True"
      ]
     },
     "execution_count": 3,
     "metadata": {},
     "output_type": "execute_result"
    }
   ],
   "source": [
    "True "
   ]
  },
  {
   "cell_type": "code",
   "execution_count": 4,
   "id": "a03f5ee7-9fe1-41ed-917d-b5a98d09165d",
   "metadata": {},
   "outputs": [],
   "source": [
    "#  according to the logic gates functions \n"
   ]
  },
  {
   "cell_type": "code",
   "execution_count": 7,
   "id": "95da6ca0-5987-4000-8a95-c0dbb66a80dd",
   "metadata": {},
   "outputs": [
    {
     "data": {
      "text/plain": [
       "True"
      ]
     },
     "execution_count": 7,
     "metadata": {},
     "output_type": "execute_result"
    }
   ],
   "source": [
    "not False  \n",
    "# not false means that only true \n"
   ]
  },
  {
   "cell_type": "code",
   "execution_count": 8,
   "id": "3ede6727-8dbc-4a5b-8231-f0fb6aeb9506",
   "metadata": {},
   "outputs": [
    {
     "data": {
      "text/plain": [
       "False"
      ]
     },
     "execution_count": 8,
     "metadata": {},
     "output_type": "execute_result"
    }
   ],
   "source": [
    "True and  False"
   ]
  },
  {
   "cell_type": "code",
   "execution_count": 9,
   "id": "6a6b4259-75fd-4d86-a04c-28ace92544d3",
   "metadata": {},
   "outputs": [
    {
     "data": {
      "text/plain": [
       "True"
      ]
     },
     "execution_count": 9,
     "metadata": {},
     "output_type": "execute_result"
    }
   ],
   "source": [
    "True or False "
   ]
  },
  {
   "cell_type": "code",
   "execution_count": 11,
   "id": "7b51b50f-06c5-4aa7-b92f-c8d1ab235159",
   "metadata": {},
   "outputs": [
    {
     "data": {
      "text/plain": [
       "bool"
      ]
     },
     "execution_count": 11,
     "metadata": {},
     "output_type": "execute_result"
    }
   ],
   "source": [
    " type(True )"
   ]
  },
  {
   "cell_type": "code",
   "execution_count": 16,
   "id": "25e930ed-0923-4b35-a138-a28ab8d7cf38",
   "metadata": {},
   "outputs": [
    {
     "name": "stdout",
     "output_type": "stream",
     "text": [
      "<class 'int'>\n",
      "<class 'float'>\n",
      "<class 'bool'>\n",
      "<class 'str'>\n"
     ]
    }
   ],
   "source": [
    "int=23\n",
    "\n",
    "print(type(int))\n",
    "\n",
    "float=45.67\n",
    "bool=True\n",
    "strings=\"chetan\"\n",
    "\n",
    "print(type(float))\n",
    "print(type(bool))\n",
    "print(type(strings))"
   ]
  },
  {
   "cell_type": "markdown",
   "id": "57c70d6f-9e4a-4b37-acb8-64bcdcae7c55",
   "metadata": {},
   "source": [
    "### Dynamic typing "
   ]
  },
  {
   "cell_type": "code",
   "execution_count": 17,
   "id": "ac741f6a-ab7a-4970-a01d-54726af79844",
   "metadata": {},
   "outputs": [],
   "source": [
    "# is that means compiler takws to understand what is varible form int and bool is called dynamic typing "
   ]
  },
  {
   "cell_type": "code",
   "execution_count": 35,
   "id": "da2b7fe0-e8e5-4d2c-9b41-346043b74a79",
   "metadata": {},
   "outputs": [
    {
     "name": "stdout",
     "output_type": "stream",
     "text": [
      "var\n"
     ]
    }
   ],
   "source": [
    "# int(\"abcd\")\n",
    "a=\"var\"\n",
    "print(a)\n",
    "\n"
   ]
  },
  {
   "cell_type": "markdown",
   "id": "17f92ff4-a0cd-4da0-bccc-883f822534a4",
   "metadata": {},
   "source": [
    "\n",
    "### Conctenation between different types"
   ]
  },
  {
   "cell_type": "code",
   "execution_count": 41,
   "id": "acaf583d-0eee-4ed9-a23a-af5faaa302ad",
   "metadata": {},
   "outputs": [
    {
     "data": {
      "text/plain": [
       "'55'"
      ]
     },
     "execution_count": 41,
     "metadata": {},
     "output_type": "execute_result"
    }
   ],
   "source": [
    "\"5\" + \"5\" ## because of both are strinf add together ex a + a =aa\n"
   ]
  },
  {
   "cell_type": "code",
   "execution_count": 53,
   "id": "a9fc8a87-a2c1-466c-9a68-fb4168253ef6",
   "metadata": {},
   "outputs": [
    {
     "name": "stdout",
     "output_type": "stream",
     "text": [
      "55\n"
     ]
    }
   ],
   "source": [
    "b=(\"5\") +  (\"5\")\n",
    "print(b)\n"
   ]
  },
  {
   "cell_type": "code",
   "execution_count": 55,
   "id": "107aefba-f41e-4ffc-a842-3395531ea5b8",
   "metadata": {},
   "outputs": [
    {
     "data": {
      "text/plain": [
       "'100'"
      ]
     },
     "execution_count": 55,
     "metadata": {},
     "output_type": "execute_result"
    }
   ],
   "source": [
    "\"1\" * 100\n",
    "\"100\" * 1"
   ]
  },
  {
   "cell_type": "markdown",
   "id": "9fcabf7a-8471-4ab8-a822-d98360ea0911",
   "metadata": {},
   "source": [
    "## typecasting"
   ]
  },
  {
   "cell_type": "code",
   "execution_count": 65,
   "id": "7b35fcd4-997f-46ef-ae5d-ea773b3e9a99",
   "metadata": {},
   "outputs": [],
   "source": [
    "#changing one data type to another \n",
    "#int to string is not possible \n",
    "\n"
   ]
  },
  {
   "cell_type": "code",
   "execution_count": 71,
   "id": "2ee6e5f7-5dad-404d-8d92-7da6661da456",
   "metadata": {},
   "outputs": [
    {
     "ename": "TypeError",
     "evalue": "'bool' object is not callable",
     "output_type": "error",
     "traceback": [
      "\u001b[0;31m---------------------------------------------------------------------------\u001b[0m",
      "\u001b[0;31mTypeError\u001b[0m                                 Traceback (most recent call last)",
      "Cell \u001b[0;32mIn[71], line 1\u001b[0m\n\u001b[0;32m----> 1\u001b[0m \u001b[38;5;28;43mbool\u001b[39;49m\u001b[43m(\u001b[49m\u001b[38;5;241;43m4\u001b[39;49m\u001b[43m)\u001b[49m\n",
      "\u001b[0;31mTypeError\u001b[0m: 'bool' object is not callable"
     ]
    }
   ],
   "source": [
    "bool(4)"
   ]
  },
  {
   "cell_type": "code",
   "execution_count": null,
   "id": "30b033dd-f0f5-4746-a956-643631620b52",
   "metadata": {},
   "outputs": [],
   "source": []
  },
  {
   "cell_type": "code",
   "execution_count": null,
   "id": "75c5ec2b-c359-4b1a-b99b-f91dae7c6b42",
   "metadata": {},
   "outputs": [],
   "source": []
  },
  {
   "cell_type": "code",
   "execution_count": null,
   "id": "effb5b74-f3da-4c0a-b61d-36f1032c4d6e",
   "metadata": {},
   "outputs": [],
   "source": []
  },
  {
   "cell_type": "code",
   "execution_count": null,
   "id": "0400d71a-2855-4856-9a41-07fdb63f9530",
   "metadata": {},
   "outputs": [],
   "source": []
  },
  {
   "cell_type": "code",
   "execution_count": null,
   "id": "b5ae82e8-169c-451e-91d8-03854318423e",
   "metadata": {},
   "outputs": [],
   "source": [
    "\n"
   ]
  },
  {
   "cell_type": "code",
   "execution_count": null,
   "id": "907e202c-0a01-43c2-bdd2-d09c5cb40f08",
   "metadata": {},
   "outputs": [],
   "source": []
  },
  {
   "cell_type": "code",
   "execution_count": null,
   "id": "6c07da44-4c1c-4224-9cd7-4a248f724da7",
   "metadata": {},
   "outputs": [],
   "source": []
  },
  {
   "cell_type": "code",
   "execution_count": null,
   "id": "80f1be49-a2a4-4bde-a028-d59499b023bc",
   "metadata": {},
   "outputs": [],
   "source": []
  },
  {
   "cell_type": "code",
   "execution_count": null,
   "id": "4c641e69-4506-4f77-9a22-8870ddc7f7b3",
   "metadata": {},
   "outputs": [],
   "source": []
  },
  {
   "cell_type": "code",
   "execution_count": null,
   "id": "962341f6-4f6f-4b13-a881-69791e139e8a",
   "metadata": {},
   "outputs": [],
   "source": []
  },
  {
   "cell_type": "code",
   "execution_count": null,
   "id": "ba987e7e-c1af-47e2-a760-4d0fb981ce93",
   "metadata": {},
   "outputs": [],
   "source": []
  },
  {
   "cell_type": "code",
   "execution_count": null,
   "id": "64b7af7b-999e-4557-9346-8d2d7ac6f5a0",
   "metadata": {},
   "outputs": [],
   "source": []
  },
  {
   "cell_type": "code",
   "execution_count": null,
   "id": "2a537c12-d7f9-44dd-b430-033a5a3f42fa",
   "metadata": {},
   "outputs": [],
   "source": []
  },
  {
   "cell_type": "code",
   "execution_count": null,
   "id": "bdc32a9e-13b9-4242-9efa-aac20b24d57e",
   "metadata": {},
   "outputs": [],
   "source": []
  },
  {
   "cell_type": "code",
   "execution_count": null,
   "id": "28b7fa34-8e97-4507-83a5-ce692c2f4c78",
   "metadata": {},
   "outputs": [],
   "source": []
  },
  {
   "cell_type": "code",
   "execution_count": null,
   "id": "5f82fbab-6327-4cd8-b503-1292ecef11ca",
   "metadata": {},
   "outputs": [],
   "source": []
  },
  {
   "cell_type": "code",
   "execution_count": null,
   "id": "ae36ca4b-b152-4d6e-a144-842fa780e3e4",
   "metadata": {},
   "outputs": [],
   "source": []
  },
  {
   "cell_type": "code",
   "execution_count": null,
   "id": "bfc28d4c-fbec-4445-b67e-eef24082ee73",
   "metadata": {},
   "outputs": [],
   "source": []
  },
  {
   "cell_type": "code",
   "execution_count": null,
   "id": "c251f39a-b2f0-4537-8642-3959614ab62a",
   "metadata": {},
   "outputs": [],
   "source": []
  },
  {
   "cell_type": "code",
   "execution_count": null,
   "id": "202a0bef-786a-46fe-996d-3b4aa9d28525",
   "metadata": {},
   "outputs": [],
   "source": []
  },
  {
   "cell_type": "code",
   "execution_count": null,
   "id": "860e93f1-a7d4-4ef7-a41e-a753a21de8d0",
   "metadata": {},
   "outputs": [],
   "source": []
  },
  {
   "cell_type": "code",
   "execution_count": null,
   "id": "8ba81d85-c041-42a7-8196-f355e073b3a8",
   "metadata": {},
   "outputs": [],
   "source": []
  },
  {
   "cell_type": "code",
   "execution_count": null,
   "id": "0216477f-6df9-478d-9be2-ff229a79f71c",
   "metadata": {},
   "outputs": [],
   "source": []
  },
  {
   "cell_type": "code",
   "execution_count": null,
   "id": "91ce8fb3-b460-45ab-9aa7-fde9d3739d0f",
   "metadata": {},
   "outputs": [],
   "source": []
  },
  {
   "cell_type": "code",
   "execution_count": null,
   "id": "03a4fbf2-de7c-4690-9de3-f9cbbf126e89",
   "metadata": {},
   "outputs": [],
   "source": []
  },
  {
   "cell_type": "code",
   "execution_count": null,
   "id": "c8c94eb0-8e41-4e9e-bbce-fc626d14d8a7",
   "metadata": {},
   "outputs": [],
   "source": []
  },
  {
   "cell_type": "code",
   "execution_count": null,
   "id": "cb049a98-c192-460a-a4f3-430e0b83df03",
   "metadata": {},
   "outputs": [],
   "source": []
  },
  {
   "cell_type": "code",
   "execution_count": null,
   "id": "7e5c887e-ed48-40a7-8fd5-fecf929d5778",
   "metadata": {},
   "outputs": [],
   "source": []
  },
  {
   "cell_type": "code",
   "execution_count": null,
   "id": "91b23ca8-daf9-4b0a-a0cf-7f4a1a4fe32c",
   "metadata": {},
   "outputs": [],
   "source": []
  },
  {
   "cell_type": "code",
   "execution_count": null,
   "id": "f12fc039-bdd3-47f4-ad53-d996dd283ebc",
   "metadata": {},
   "outputs": [],
   "source": []
  },
  {
   "cell_type": "code",
   "execution_count": null,
   "id": "95aa7c2d-d856-47b4-bf25-d7c77560d40b",
   "metadata": {},
   "outputs": [],
   "source": []
  },
  {
   "cell_type": "code",
   "execution_count": null,
   "id": "b9db54a9-0982-4725-aef3-f642191e7535",
   "metadata": {},
   "outputs": [],
   "source": []
  },
  {
   "cell_type": "code",
   "execution_count": null,
   "id": "3d5c0546-8ece-45d2-b9fe-6ee91cf56c59",
   "metadata": {},
   "outputs": [],
   "source": []
  },
  {
   "cell_type": "code",
   "execution_count": null,
   "id": "1f300c6c-7533-4b35-b8c5-58f282eb6eec",
   "metadata": {},
   "outputs": [],
   "source": []
  }
 ],
 "metadata": {
  "kernelspec": {
   "display_name": "Python 3 (ipykernel)",
   "language": "python",
   "name": "python3"
  },
  "language_info": {
   "codemirror_mode": {
    "name": "ipython",
    "version": 3
   },
   "file_extension": ".py",
   "mimetype": "text/x-python",
   "name": "python",
   "nbconvert_exporter": "python",
   "pygments_lexer": "ipython3",
   "version": "3.10.8"
  }
 },
 "nbformat": 4,
 "nbformat_minor": 5
}
