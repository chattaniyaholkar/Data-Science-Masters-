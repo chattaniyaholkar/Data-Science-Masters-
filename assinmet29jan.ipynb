{
 "cells": [
  {
   "cell_type": "code",
   "execution_count": 1,
   "id": "76eedb05-4705-46fa-8a9b-4a42677c9acd",
   "metadata": {},
   "outputs": [
    {
     "name": "stdout",
     "output_type": "stream",
     "text": [
      "Guido van Rossum \n"
     ]
    }
   ],
   "source": [
    "# who developed python progaming langaue \n",
    "print( \"Guido van Rossum \")"
   ]
  },
  {
   "cell_type": "code",
   "execution_count": 2,
   "id": "f82e27dd-059e-4e74-8cc2-0350cd4c6fdf",
   "metadata": {},
   "outputs": [
    {
     "name": "stdout",
     "output_type": "stream",
     "text": [
      " object-oriented \n"
     ]
    }
   ],
   "source": [
    "# ANS 2\n",
    "print(\" object-oriented \")"
   ]
  },
  {
   "cell_type": "code",
   "execution_count": 3,
   "id": "32d029ae-c1dc-44c7-b1b1-bb95e41484e8",
   "metadata": {},
   "outputs": [
    {
     "name": "stdout",
     "output_type": "stream",
     "text": [
      "yes python is case sensitive language \n"
     ]
    }
   ],
   "source": [
    "# ANS 3\n",
    "print(\"yes python is case sensitive language \")"
   ]
  },
  {
   "cell_type": "code",
   "execution_count": 4,
   "id": "4fb434ee-45de-4124-8d74-16bdbf56fe59",
   "metadata": {},
   "outputs": [
    {
     "name": "stdout",
     "output_type": "stream",
     "text": [
      "the correct extension of python files .py \n"
     ]
    }
   ],
   "source": [
    "# ANS 4\n",
    "print(\"the correct extension of python files .py \")"
   ]
  },
  {
   "cell_type": "code",
   "execution_count": 5,
   "id": "e84bbece-7332-42b4-8ea4-e51335143f77",
   "metadata": {},
   "outputs": [
    {
     "name": "stdout",
     "output_type": "stream",
     "text": [
      "interpreted language \n"
     ]
    }
   ],
   "source": [
    "# ANS 5\n",
    "print(\"interpreted language \")"
   ]
  },
  {
   "cell_type": "code",
   "execution_count": 6,
   "id": "764d435e-8d0a-41c5-89d9-531ce46a1289",
   "metadata": {},
   "outputs": [
    {
     "name": "stdin",
     "output_type": "stream",
     "text": [
      " what is your age  16\n"
     ]
    },
    {
     "name": "stdout",
     "output_type": "stream",
     "text": [
      "you are not elligble for vote\n"
     ]
    }
   ],
   "source": [
    "# ANS 6\n",
    "# first we make a variable \n",
    "age=int(input(\" what is your age \"))\n",
    "if age<=18 and age>=18 :\n",
    "       print(\"you are  ellible for vote \")\n",
    "else :\n",
    "      print(\"you are not elligble for vote\")\n",
    "    \n",
    " "
   ]
  },
  {
   "cell_type": "code",
   "execution_count": 8,
   "id": "fcb8f7b2-ce1e-4267-af4a-8852f0ba2e3d",
   "metadata": {},
   "outputs": [],
   "source": [
    "# ANS 7\n",
    "# we use a # and use shortcut key ctrl / for single line comment "
   ]
  },
  {
   "cell_type": "code",
   "execution_count": null,
   "id": "fb6b3cb7-87bc-4a4f-8512-55a032c6fbc3",
   "metadata": {},
   "outputs": [],
   "source": [
    "# ANs \n",
    "import sys\n",
    "print(sys.version)\n",
    "\n",
    "# another method is used \n",
    "python_version()"
   ]
  },
  {
   "cell_type": "code",
   "execution_count": 10,
   "id": "7ebbad9c-b9e9-4c25-a11d-ed7c6d409838",
   "metadata": {},
   "outputs": [],
   "source": [
    "# ANS 9\n",
    "LAMBDA function"
   ]
  },
  {
   "cell_type": "code",
   "execution_count": 12,
   "id": "bdcad7ac-26a7-420a-aa46-e9898caf7c5e",
   "metadata": {},
   "outputs": [],
   "source": [
    "# ANS 10\n",
    " preffered installer program \n"
   ]
  },
  {
   "cell_type": "code",
   "execution_count": null,
   "id": "99470714-8ee9-43e3-b36a-d2f87893abee",
   "metadata": {},
   "outputs": [],
   "source": [
    "# ANS 11\n",
    "class, str ,int ,object, bool, ect.....\n",
    "# built in functions"
   ]
  },
  {
   "cell_type": "code",
   "execution_count": null,
   "id": "68c47860-23ad-4930-8c60-6969726d5218",
   "metadata": {},
   "outputs": [],
   "source": [
    "# ANS 12\n",
    "79 characters in identifires approx"
   ]
  },
  {
   "cell_type": "code",
   "execution_count": 14,
   "id": "c092fa81-a43b-43e6-b2f2-13164860d3a5",
   "metadata": {},
   "outputs": [],
   "source": [
    "# ANS 13\n",
    "BENIFITS OF PYTHON IS\n",
    "open source langugae \n",
    "easy to understand \n",
    "easy to use \n",
    "use in data scients \n"
   ]
  },
  {
   "cell_type": "code",
   "execution_count": null,
   "id": "86d5fcec-c84b-4367-bde8-3fb1c09e4d72",
   "metadata": {},
   "outputs": [],
   "source": [
    "# ANS 14\n",
    "Python memory mangement has different components which is deal with various programs like storage disc,sharing ect..."
   ]
  },
  {
   "cell_type": "code",
   "execution_count": null,
   "id": "cb16a07d-c823-4d61-a98f-cb9abbf08d77",
   "metadata": {},
   "outputs": [],
   "source": [
    "# ANS 15\n",
    "how to install python on windowns\n",
    "first you go gogle and download current version of python and download it on any trusted website and you can also download a \n",
    "vs code and use comand promt in your computer..\n",
    "\n",
    "HOW TO SET PATH VARIBLES IN PYTHON \n",
    "open this pc\n",
    "and click advanced system \n",
    "click advanced varible systems \n",
    "add path of python varibles "
   ]
  },
  {
   "cell_type": "code",
   "execution_count": null,
   "id": "8920f568-a6be-4db2-a359-89495491f36c",
   "metadata": {},
   "outputs": [],
   "source": [
    "ANS 16 \n",
    "YES identation is important "
   ]
  },
  {
   "cell_type": "code",
   "execution_count": null,
   "id": "ade4a9b8-d917-4ad3-aaa3-845fa102a5f6",
   "metadata": {},
   "outputs": [],
   "source": []
  },
  {
   "cell_type": "code",
   "execution_count": null,
   "id": "63cf7250-ac42-41fc-bb30-18e7c3642ced",
   "metadata": {},
   "outputs": [],
   "source": []
  },
  {
   "cell_type": "code",
   "execution_count": null,
   "id": "149f97d8-d2b9-4877-b631-0902f1b91d09",
   "metadata": {},
   "outputs": [],
   "source": []
  }
 ],
 "metadata": {
  "kernelspec": {
   "display_name": "Python 3 (ipykernel)",
   "language": "python",
   "name": "python3"
  },
  "language_info": {
   "codemirror_mode": {
    "name": "ipython",
    "version": 3
   },
   "file_extension": ".py",
   "mimetype": "text/x-python",
   "name": "python",
   "nbconvert_exporter": "python",
   "pygments_lexer": "ipython3",
   "version": "3.10.8"
  }
 },
 "nbformat": 4,
 "nbformat_minor": 5
}
